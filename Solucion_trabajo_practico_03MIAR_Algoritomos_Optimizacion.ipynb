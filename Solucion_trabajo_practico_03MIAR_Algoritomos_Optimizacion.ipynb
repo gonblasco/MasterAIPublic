{
  "cells": [
    {
      "cell_type": "markdown",
      "metadata": {
        "id": "hVbXYX-RfPWh"
      },
      "source": [
        "# Algoritmos de optimización - Trabajo práctico<br>\n",
        "Nombre y Apellidos: Gonzalo Blasco Ayuso<br>\n",
        "Contacto 1: gonzalo.blasco96@gmail.com<br>\n",
        "Contacto 2: gblascoa@student.universidadviu.com<br>\n",
        "Url: https://github.com/gonblasco/MasterAIPublic.git<br>\n",
        "\n",
        "### Problema\n",
        "1. Sesiones de doblaje <br>\n",
        "\n",
        ">Se precisa coordinar el doblaje de una película. Los actores del doblaje deben coincidir en las\n",
        ">escenas en las que sus personajes aparecen juntos en las diferentes escenas. Los actores de\n",
        ">doblaje cobran todos la misma cantidad por cada día que deben desplazarse hasta el estudio de\n",
        ">grabación independientemente del número de escenas que se graben. No es posible grabar más\n",
        ">de 6 escenas por día. El objetivo es planificar las sesiones por día de manera que el gasto por los\n",
        ">servicios de los actores de doblaje sea el menor posible. Los datos son:\n",
        ">- Número de actores: 10\n",
        ">- Número de escenas: 30\n",
        ">- Actores/escenas: https://bit.ly/36D8IuK\n",
        ">   -  1 indica que el cator participa en la escena\n",
        ">   -  0 en caso contrario\n",
        "\n",
        "(*) La respuesta es obligatoria                                        "
      ]
    },
    {
      "cell_type": "code",
      "execution_count": 1,
      "metadata": {},
      "outputs": [],
      "source": [
        "## LIBRERÍAS\n",
        "import math\n",
        "import numpy as np\n",
        "import copy\n",
        "import matplotlib.pyplot as plt\n",
        "import seaborn as sns\n",
        "import pandas as pd"
      ]
    },
    {
      "cell_type": "markdown",
      "metadata": {
        "id": "3_-exlrTgLd-"
      },
      "source": [
        "### **(*)¿Cuántas posibilidades hay sin tener en cuenta las restricciones?**\n",
        "### **¿Cuántas posibilidades hay teniendo en cuenta todas las restricciones?**"
      ]
    },
    {
      "cell_type": "markdown",
      "metadata": {},
      "source": [
        "Sin tener en cuenta las restricciones, existen 2 opciones no aclaradas en el enunciado:\n",
        "\n",
        "1. Cada día se tiene que aprovechar para rodar el máximo de tomas\n",
        "- Sin tener en cuenta otras restricciones:\n",
        "  - Una permutación de las 30 tomas, distribuidas en chunks de 6\n",
        "$$\n",
        "P(30) = 30!\n",
        "$$\n",
        "\n",
        "- Teniendo en cuenta las restricciones del enunciado (máximo 6 escenas por día)\n",
        "  - Una permutación de las 30 tomas, distribuidas en chunks de 6\n",
        "$$\n",
        "P(30) = 30!\n",
        "$$"
      ]
    },
    {
      "cell_type": "code",
      "execution_count": 2,
      "metadata": {},
      "outputs": [
        {
          "data": {
            "text/plain": [
              "265252859812191058636308480000000"
            ]
          },
          "execution_count": 2,
          "metadata": {},
          "output_type": "execute_result"
        }
      ],
      "source": [
        "# Calcular 30!\n",
        "math.factorial(30)"
      ]
    },
    {
      "cell_type": "markdown",
      "metadata": {},
      "source": [
        "2. Cada día no tiene un máximo de tomas, pero al menos se tiene que rodar una para que ese día cuente\n",
        "\n",
        "- Sin tener en cuenta otras restricciones:\n",
        "  - No se puede calcular sin saber el número máximo de escenas.\n",
        "\n",
        "- Teniendo en cuenta las restricciones del enunciado (máximo 6 escenas por día):\n",
        "  - Si se graba una escena por día nada más, se obtiene un máximo teórico de 30*6 = 180 posibilidades de grabar tomas, distribuidas en chunks de 6.\n",
        "  - Son permutaciones con repetición para los huecos vacíos pero no para las tomas de 1 al 30.\n",
        "$$\n",
        "\\binom{180}{30} = \\frac{180!}{30! \\times (180-30)!}\n",
        "$$"
      ]
    },
    {
      "cell_type": "code",
      "execution_count": 3,
      "metadata": {
        "id": "iq6Fe32MgpDX"
      },
      "outputs": [
        {
          "data": {
            "text/plain": [
              "13256166154299679213044725041407792"
            ]
          },
          "execution_count": 3,
          "metadata": {},
          "output_type": "execute_result"
        }
      ],
      "source": [
        "# Cálculo del coeficiente binomial\n",
        "n = 180  # Número total de elementos\n",
        "k = 30   # Número de posiciones para los números del 1 al 30\n",
        "# Calcular combinaciones\n",
        "math.comb(n, k)"
      ]
    },
    {
      "cell_type": "markdown",
      "metadata": {},
      "source": [
        "Se ha optado por asumir la segunda opción. Por tanto, siempre hay una restricción implícita que es que se tiene que rodar al menos 1 toma por día. De lo contrario, ningún día sería de provecho en el estudio de doblaje y la película nunca se terminaría."
      ]
    },
    {
      "cell_type": "markdown",
      "metadata": {
        "id": "dzynfVJahHoY"
      },
      "source": [
        "### **Modelo para el espacio de soluciones:**<br>\n",
        "### **(*) ¿Cuál es la estructura de datos que mejor se adapta al problema? Arguméntalo.(Es posible que hayas elegido una al principio y veas la necesidad de cambiar, arguméntalo)**"
      ]
    },
    {
      "cell_type": "markdown",
      "metadata": {
        "id": "xFIJrOwKi2Ti"
      },
      "source": [
        "Se ha optado por un array, un vector n elementos, para representar la solución. Cada índice del array representa un hueco para rodar una toma y el valor indica qué toma se rueda (número entre 1 y el 30) o un 0 en caso de que no se ruede una toma. El array se divide en *chunks* o subconjuntos del número máximo de tomas por día (6 en este problema)."
      ]
    },
    {
      "attachments": {
        "Imagen2-2.png": {
          "image/png": "[encoded data removed]"
        }
      },
      "cell_type": "markdown",
      "metadata": {},
      "source": [
        "![Imagen2-2.png](attachment:Imagen2-2.png)"
      ]
    },
    {
      "cell_type": "markdown",
      "metadata": {
        "id": "7Z9U2W7bi-XS"
      },
      "source": [
        "### **Según el modelo para el espacio de soluciones:**<br>\n",
        "### **(*)¿Cual es la función objetivo?**\n",
        "### **(*)¿Es un problema de maximización o minimización?**"
      ]
    },
    {
      "cell_type": "markdown",
      "metadata": {
        "id": "hBalWLM7j1_d"
      },
      "source": [
        "La función objetivo es el coste medido con el número de desplazamientos necesario:\n",
        "\n",
        "$$\n",
        "f(S) = \\sum_{d=1}^{D} \\text{Desplazamientos}(d)\n",
        "$$\n",
        "que se calcula por cada día y después se suma para todos los dias utilizados en rodar las 30 escenas.\n",
        "\n",
        "Se trata de un problema de **minimización**."
      ]
    },
    {
      "cell_type": "markdown",
      "metadata": {
        "id": "rlnTYgY1j6I2"
      },
      "source": [
        "### **Diseña un algoritmo para resolver el problema por fuerza bruta.**"
      ]
    },
    {
      "cell_type": "markdown",
      "metadata": {
        "id": "70rDgxYXkC8r"
      },
      "source": [
        "Se ha optado por un algoritmo de **búsqueda aleatoria**. Se prueban diferentes combinaciones en un total de n iteraciones y se escoge la mejor opción. Si el número de iteraciones es igual al número de combinaciones posible, se asegura alcanzar un mínimo global como solución.\n",
        "\n",
        "Es un algoritmo ineficiente en para este problema."
      ]
    },
    {
      "cell_type": "code",
      "execution_count": 4,
      "metadata": {},
      "outputs": [],
      "source": [
        "## FUNCIONES AUXILIARES\n",
        "\n",
        "# Generar una solución aleatoria\n",
        "def gen_random_solution (total_scenes, max_scenes_day):\n",
        "\n",
        "    # Todas las escenas en orden aleatorio, sin repeticiones y con posibles huecos vacíos\n",
        "    # máximo de max_scenes_day escenas por día,\n",
        "    # mínimo de 1 escena por día    \n",
        "    # máximo teórico de max_scenes_day*total_scenes días\n",
        "    theorical_max_days = total_scenes*max_scenes_day\n",
        "\n",
        "    unique_scene_numbers = np.arange(1, total_scenes + 1)\n",
        "    # 0 para indicar que no hay escena en ese hueco (máximo 5 huecos vacíos y 1 escena por día)\n",
        "    zeros = np.zeros(theorical_max_days - len(unique_scene_numbers), dtype=int)\n",
        "    # Juntar escenas con huecos vacíos\n",
        "    solution = np.concatenate([unique_scene_numbers, zeros])\n",
        "    # Orden aleatorio\n",
        "    np.random.shuffle(solution)\n",
        "\n",
        "    # No tiene sentido un día sin grabar ninguna escena\n",
        "    # Así que mejor dividir en días y eliminar los días sin escenas\n",
        "    days = [solution[i:i + max_scenes_day] for i in range(0, len(solution), max_scenes_day)]\n",
        "    valid_days = [days for days in days if not np.all(days == 0)]\n",
        "\n",
        "    # Generar la solución completa\n",
        "    final_solution = np.concatenate(valid_days)\n",
        "\n",
        "    return final_solution\n",
        "\n",
        "# Mostrar la solución\n",
        "def print_solution (solution, max_scenes_day):\n",
        "    planning = [solution[i:i + max_scenes_day] for i in range(0, len(solution), max_scenes_day)]\n",
        "    for i, scheduled_day in enumerate(planning):\n",
        "        print(f\"Día {i+1}: {['escena_' + str(x) for x in scheduled_day if x != 0]}\")\n",
        "\n",
        "# Gasto por día\n",
        "def calc_expense_day (actors_scene_matrix, day):\n",
        "\n",
        "    # Lista de actores requeridos para ese día\n",
        "    required_actors = []\n",
        "\n",
        "    for scene in day:\n",
        "        # Obtener los actores que participan en la escena\n",
        "        scene_metadata = actors_scene_matrix[scene-1]\n",
        "        included_actors = [i+1 for i, value in enumerate(scene_metadata) if value == 1]\n",
        "        \n",
        "        # Incluir actores a la lista de actores para ese día, si no se encontraban ya\n",
        "        required_actors.extend([element for element in included_actors if element not in required_actors])\n",
        "\n",
        "    return len(required_actors)\n",
        "\n",
        "# Gasto total por solución\n",
        "def calc_expense_solution (actors_scene_matrix, solution, max_scenes_day):\n",
        "    # solution: list[]\n",
        "    # Lista con la configuración de las escenas por día\n",
        "\n",
        "    accumulated_expense = 0\n",
        "    # Cada max_scenes_day se divide el array para obtener un día, usando slicing\n",
        "    for day in [solution[i:i + max_scenes_day] for i in range(0, len(solution), max_scenes_day)]:\n",
        "        # calcular gasto por día\n",
        "        accumulated_expense += calc_expense_day(actors_scene_matrix, day)\n",
        "\n",
        "    return accumulated_expense\n",
        "\n",
        "# Solución con menor gasto (igual no la necesito!!!!)\n",
        "def get_min_expense_solution (actors_scene_matrix, solution_set, max_scenes_day):\n",
        "    # solution_set: list[list[]]\n",
        "\n",
        "    best_solution = []\n",
        "    best_expense = 99999999 # Número grande\n",
        "\n",
        "    for solution in solution_set:\n",
        "        expense = calc_expense_solution(actors_scene_matrix, solution, max_scenes_day)\n",
        "        if expense < best_expense:\n",
        "            best_solution = solution\n",
        "            best_expense = expense\n",
        "    \n",
        "    return best_solution"
      ]
    },
    {
      "cell_type": "code",
      "execution_count": 5,
      "metadata": {},
      "outputs": [],
      "source": [
        "## BÚSQUEDA ALEATORIA\n",
        "\n",
        "def random_search (actors_scene_matrix, total_scenes, max_scenes_day, n):\n",
        "    # n: número de iteraciones\n",
        "\n",
        "    best_solution = []\n",
        "    best_expense = 10e100  # Número grande\n",
        "\n",
        "    for i in range(n):\n",
        "        solution = gen_random_solution(total_scenes, max_scenes_day)\n",
        "        expense = calc_expense_solution(actors_scene_matrix, solution, max_scenes_day)\n",
        "\n",
        "        if expense < best_expense:\n",
        "            best_solution = solution\n",
        "            best_expense = expense\n",
        "\n",
        "    return best_solution, best_expense"
      ]
    },
    {
      "cell_type": "markdown",
      "metadata": {
        "id": "tgrnsC2nkFa8"
      },
      "source": [
        "### **Calcula la complejidad del algoritmo por fuerza bruta.**"
      ]
    },
    {
      "cell_type": "markdown",
      "metadata": {
        "id": "9eUd3xwckP68"
      },
      "source": [
        "El orden de complejidad del algoritmo es lineal para una iteración, y crece de forma lineal en el tiempo.\n",
        "$$\n",
        "O(n \\times \\text{{total\\_scenes}} \\times \\text{{max\\_scenes\\_day}} \\times \\text{{total\\_actors}})\n",
        "$$\n",
        "$$\n",
        "O(n)\n",
        "$$"
      ]
    },
    {
      "cell_type": "markdown",
      "metadata": {
        "id": "txbrmLmskReM"
      },
      "source": [
        "### **(*)Diseña un algoritmo que mejore la complejidad del algortimo por fuerza bruta. Argumenta porque crees que mejora el algoritmo por fuerza bruta.**"
      ]
    },
    {
      "cell_type": "markdown",
      "metadata": {
        "id": "hLrVwt5QkZPD"
      },
      "source": [
        "Utilizando la metaheurística del **Simulated Annealing** se ha desarollado un algoritmo más eficiente para encontrar la solución.<br>\n",
        "La función de probabilidad utilizada:\n",
        "$$\n",
        "P_{\\text{aceptación}} = \\exp\\left(-\\frac{\\delta}{T}\\right)\n",
        "$$\n",
        "La función de descenso de temperatura escogida es la del descenso exponencial:\n",
        "$$\n",
        "T_{k+1} = \\alpha \\cdot T_k\n",
        "$$"
      ]
    },
    {
      "cell_type": "code",
      "execution_count": 6,
      "metadata": {
        "id": "m1eyM21Vkabg"
      },
      "outputs": [],
      "source": [
        "## SIMULATED ANNEALING\n",
        "\n",
        "# Generar una solución vecina\n",
        "def gen_neighboring_solution (solution, max_scenes_day):\n",
        "    \n",
        "   # Índices te todos los elementos\n",
        "    indices = np.arange(len(solution))\n",
        "    \n",
        "    # Seleccionar aleatoriamente 2 índices (toma o cero)\n",
        "    i, j = np.random.choice(indices, size=2, replace=False)\n",
        "    \n",
        "    # Intercambiar elementos\n",
        "    solution[i], solution[j] = solution[j], solution[i]\n",
        "\n",
        "    # No tiene sentido un día sin grabar ninguna escena\n",
        "    # Así que mejor dividir en días y eliminar los días sin escenas\n",
        "    days = [solution[i:i + max_scenes_day] for i in range(0, len(solution), max_scenes_day)]\n",
        "    valid_days = [days for days in days if not np.all(days == 0)]\n",
        "\n",
        "    return np.concatenate(valid_days)\n",
        "\n",
        "\n",
        "# Función de probabilidad para aceptar peores soluciones\n",
        "def accept(T, d):\n",
        "  if np.random.rand() < math.exp(-1 * d / T):\n",
        "    return True\n",
        "  else:\n",
        "    return False\n",
        "\n",
        "# Función de descenso de temperatura\n",
        "# Probando a bajar la temperatura más lentamente me da una mejores soluciones\n",
        "def cool_down(T):\n",
        "  return T * 0.999\n",
        "\n",
        "def s_a(actors_scene_matrix, total_scenes, max_scenes_day, T):\n",
        "\n",
        "  # Para análisis\n",
        "  iterations = []\n",
        "  temperatures = []\n",
        "  expenses = []\n",
        "\n",
        "  ref_solution = gen_random_solution(total_scenes, max_scenes_day)\n",
        "  ref_expense = calc_expense_solution(actors_scene_matrix, ref_solution, max_scenes_day)\n",
        "\n",
        "  best_solution = []\n",
        "  best_expense = 10e100  # número grande\n",
        "\n",
        "  n = 0\n",
        "  while T > .0001: # hasta que se enfríe\n",
        "    n += 1\n",
        "\n",
        "    # Generar una solución vecina\n",
        "    current_solution = gen_neighboring_solution(ref_solution, max_scenes_day)\n",
        "    current_expense = calc_expense_solution(actors_scene_matrix, current_solution, max_scenes_day)\n",
        "\n",
        "    # Si es la mejor solución de todas -> guardar\n",
        "    if current_expense < best_expense:\n",
        "        best_solution = current_solution\n",
        "        best_expense = current_expense\n",
        "\n",
        "    # Si la nueva vecina es mejor se cambia\n",
        "    # Si es peor se cambia según una probabilidad que depende de T y delta (ref_expense - current_expense)\n",
        "    if current_expense < ref_expense or accept(T, abs(ref_expense - current_expense)):\n",
        "      ref_solution = copy.deepcopy(current_solution)\n",
        "      ref_expense = current_expense\n",
        "\n",
        "    # Bajamos la temperatura\n",
        "    T = cool_down(T)\n",
        "\n",
        "    # Almacenar datos para análisis\n",
        "    iterations.append(n)\n",
        "    temperatures.append(T)\n",
        "    expenses.append(best_expense)\n",
        "\n",
        "  return best_solution, best_expense, iterations, temperatures, expenses"
      ]
    },
    {
      "cell_type": "markdown",
      "metadata": {
        "id": "eGDB4K6uk1iN"
      },
      "source": [
        "### **(*)Calcula la complejidad del algoritmo**"
      ]
    },
    {
      "cell_type": "markdown",
      "metadata": {
        "id": "NhpTh_BPk1ms"
      },
      "source": [
        "El orden de complejidad del algoritmo es lineal para una iteración, y crece de forma lineal en el tiempo.\n",
        "$$\n",
        "O(n \\times \\text{{total\\_scenes}} \\times \\text{{max\\_scenes\\_day}} \\times \\text{{total\\_actors}})\n",
        "$$\n",
        "$$\n",
        "O(n)\n",
        "$$"
      ]
    },
    {
      "cell_type": "markdown",
      "metadata": {
        "id": "3M6QjTsSkmYe"
      },
      "source": [
        "### **Según el problema (y tenga sentido), diseña un juego de datos de entrada aleatorios.**"
      ]
    },
    {
      "cell_type": "markdown",
      "metadata": {
        "id": "Jc3_OlyNkvjZ"
      },
      "source": [
        "Los datos de entrada no son aleatorios, provienen del enunciado."
      ]
    },
    {
      "cell_type": "code",
      "execution_count": 7,
      "metadata": {
        "id": "CJb5sQ0qkENy"
      },
      "outputs": [
        {
          "name": "stdout",
          "output_type": "stream",
          "text": [
            "Comprobación: total de escenas por actor [22 14 13 15 11  8  3  4  2  2]\n",
            "Comprobación: total de actores por escena [5 3 3 4 3 4 4 3 3 4 5 5 3 3 3 2 2 2 2 4 2 4 2 2 4 4 2 2 3 2]\n"
          ]
        }
      ],
      "source": [
        "## DATOS DEL PROBLEMA\n",
        "\n",
        "# Tabla actores por escena\n",
        "# El índice de fila m+1 es el número identificativo de la escena\n",
        "# El índice de columna n+1 es el número identificativo del actor\n",
        "actors_scene_matrix = np.array([\n",
        "    [1, 1, 1, 1, 1, 0, 0, 0, 0, 0],\n",
        "    [0, 0, 1, 1, 1, 0, 0, 0, 0, 0],\n",
        "    [0, 1, 0, 0, 1, 0, 1, 0, 0, 0],\n",
        "    [1, 1, 0, 0, 0, 0, 1, 1, 0, 0],\n",
        "    [0, 1, 0, 1, 0, 0, 0, 1, 0, 0],\n",
        "    [1, 1, 0, 1, 1, 0, 0, 0, 0, 0],\n",
        "    [1, 1, 0, 1, 1, 0, 0, 0, 0, 0],\n",
        "    [1, 1, 0, 0, 0, 1, 0, 0, 0, 0],\n",
        "    [1, 1, 0, 1, 0, 0, 0, 0, 0, 0],\n",
        "    [1, 1, 0, 0, 0, 1, 0, 0, 1, 0],\n",
        "    [1, 1, 1, 0, 1, 0, 0, 1, 0, 0],\n",
        "    [1, 1, 1, 1, 0, 1, 0, 0, 0, 0],\n",
        "    [1, 0, 0, 1, 1, 0, 0, 0, 0, 0],\n",
        "    [1, 0, 1, 0, 0, 1, 0, 0, 0, 0],\n",
        "    [1, 1, 0, 0, 0, 0, 1, 0, 0, 0],\n",
        "    [0, 0, 0, 1, 0, 0, 0, 0, 0, 1],\n",
        "    [1, 0, 1, 0, 0, 0, 0, 0, 0, 0],\n",
        "    [0, 0, 1, 0, 0, 1, 0, 0, 0, 0],\n",
        "    [1, 0, 1, 0, 0, 0, 0, 0, 0, 0],\n",
        "    [1, 0, 1, 1, 1, 0, 0, 0, 0, 0],\n",
        "    [0, 0, 0, 0, 0, 1, 0, 1, 0, 0],\n",
        "    [1, 1, 1, 1, 0, 0, 0, 0, 0, 0],\n",
        "    [1, 0, 1, 0, 0, 0, 0, 0, 0, 0],\n",
        "    [0, 0, 1, 0, 0, 1, 0, 0, 0, 0],\n",
        "    [1, 1, 0, 1, 0, 0, 0, 0, 0, 1],\n",
        "    [1, 0, 1, 0, 1, 0, 0, 0, 1, 0],\n",
        "    [0, 0, 0, 1, 1, 0, 0, 0, 0, 0],\n",
        "    [1, 0, 0, 1, 0, 0, 0, 0, 0, 0],\n",
        "    [1, 0, 0, 0, 1, 1, 0, 0, 0, 0],\n",
        "    [1, 0, 0, 1, 0, 0, 0, 0, 0, 0]\n",
        "])\n",
        "\n",
        "# Test\n",
        "# Total de escenas por actor\n",
        "column_totals = actors_scene_matrix.sum(axis = 0)\n",
        "print(f\"Comprobación: total de escenas por actor {column_totals}\")\n",
        "# Total de actores por escena\n",
        "row_totals = actors_scene_matrix.sum(axis = 1)\n",
        "print(f\"Comprobación: total de actores por escena {row_totals}\")"
      ]
    },
    {
      "cell_type": "markdown",
      "metadata": {
        "id": "zy5ZROmjlGo1"
      },
      "source": [
        "### **Aplica el algoritmo al juego de datos generado.**"
      ]
    },
    {
      "cell_type": "markdown",
      "metadata": {
        "id": "_Cmj-PVylMsa"
      },
      "source": [
        "Se ejecutan dos *tests* para comprobar la mejora con el nuevo algoritmo que utiliza heurísticas para obtener una mejor solución.<br>\n",
        "Conclusiones:\n",
        "- La búsqueda aleatoria aporta soluciones poco óptimas.\n",
        "- El Simulated Annealing depende mucho de la función de generación de solución vecina.\n",
        "  - Se intercambian escenas de posición.\n",
        "  - Se eliminan los días vacíos para compactar los rodajes y ceñirse al propósito del problema."
      ]
    },
    {
      "cell_type": "code",
      "execution_count": 8,
      "metadata": {},
      "outputs": [
        {
          "name": "stdout",
          "output_type": "stream",
          "text": [
            "BÚSQUEDA ALEATORIA\n",
            "Mejor solución:\n",
            "Día 1: ['escena_1', 'escena_19', 'escena_26']\n",
            "Día 2: ['escena_9', 'escena_25']\n",
            "Día 3: ['escena_2']\n",
            "Día 4: ['escena_15', 'escena_22']\n",
            "Día 5: ['escena_3', 'escena_6']\n",
            "Día 6: ['escena_23', 'escena_18']\n",
            "Día 7: ['escena_14', 'escena_16', 'escena_28']\n",
            "Día 8: ['escena_30']\n",
            "Día 9: ['escena_4', 'escena_20']\n",
            "Día 10: ['escena_12', 'escena_27', 'escena_8', 'escena_11']\n",
            "Día 11: ['escena_10']\n",
            "Día 12: ['escena_7']\n",
            "Día 13: ['escena_17', 'escena_24']\n",
            "Día 14: ['escena_29', 'escena_21', 'escena_13']\n",
            "Día 15: ['escena_5']\n",
            "Gasto total (# desplazamientos) : 71\n"
          ]
        }
      ],
      "source": [
        "## TEST: BÚSQUEDA ALEATORIA\n",
        "solution_1, solution_expense_1 = random_search(actors_scene_matrix, total_scenes=30, max_scenes_day=6, n=10000)\n",
        "print(\"BÚSQUEDA ALEATORIA\")\n",
        "print(\"Mejor solución:\")\n",
        "print_solution(solution_1, 6)\n",
        "print(f\"Gasto total (# desplazamientos) : {solution_expense_1}\")"
      ]
    },
    {
      "cell_type": "code",
      "execution_count": 9,
      "metadata": {
        "id": "Jkx8GeiYlUz1"
      },
      "outputs": [
        {
          "name": "stdout",
          "output_type": "stream",
          "text": [
            "Mejor solución:\n",
            "Día 1: ['escena_7', 'escena_22', 'escena_9', 'escena_25', 'escena_2']\n",
            "Día 2: ['escena_27', 'escena_26', 'escena_30', 'escena_17', 'escena_15', 'escena_6']\n",
            "Día 3: ['escena_23', 'escena_10', 'escena_18', 'escena_4', 'escena_24', 'escena_8']\n",
            "Día 4: ['escena_1', 'escena_19', 'escena_12', 'escena_14', 'escena_3', 'escena_28']\n",
            "Día 5: ['escena_16']\n",
            "Día 6: ['escena_5', 'escena_20', 'escena_29', 'escena_11', 'escena_13', 'escena_21']\n",
            "Gasto total (# desplazamientos) : 37\n"
          ]
        },
        {
          "data": {
            "image/png": "[encoded data removed]",
            "text/plain": [
              "<Figure size 640x480 with 2 Axes>"
            ]
          },
          "metadata": {},
          "output_type": "display_data"
        }
      ],
      "source": [
        "## TEST: SIMULATED ANNEALING\n",
        "solution_2, solution_expense_2, x_iterations, y_temperatures, y_expenses = s_a(actors_scene_matrix, total_scenes=30, max_scenes_day=6, T=1000000)\n",
        "print(\"Mejor solución:\")\n",
        "print_solution(solution_2, 6)\n",
        "print(f\"Gasto total (# desplazamientos) : {solution_expense_2}\")\n",
        "\n",
        "# Análisis\n",
        "f, ax = plt.subplots(2,1)\n",
        "\n",
        "ax[0].plot(x_iterations, y_temperatures, 'b', label='temp')\n",
        "ax[0].legend()\n",
        "ax[0].set_title('Evolución de la temperatura')\n",
        "ax[0].set_xlabel('Iteración')\n",
        "ax[0].set_ylabel('Temperatura')\n",
        "ax[1].plot(x_iterations, y_expenses, 'g', label='expense')\n",
        "ax[1].legend()\n",
        "ax[1].set_title('Evolución del mejor coste (mínimo)')\n",
        "ax[1].set_xlabel('Iteración')\n",
        "ax[1].set_ylabel('# desplazamientos')\n",
        "\n",
        "plt.tight_layout()\n",
        "plt.show()"
      ]
    },
    {
      "cell_type": "markdown",
      "metadata": {
        "id": "eTFWUJQrtGcv"
      },
      "source": [
        "### **Enumera las referencias que has utilizado (si ha sido necesario) para llevar a cabo el trabajo.**"
      ]
    },
    {
      "cell_type": "markdown",
      "metadata": {
        "id": "YKQ_mRBttWsP"
      },
      "source": [
        "[1] MathWorks, \"How Simulated Annealing Works,\" MATLAB & Simulink, 2023. [Online]. Available: https://es.mathworks.com/help/gads/how-simulated-annealing-works.html. [Accessed: 27-Sep-2024].<br>\n",
        "[2] J. Alvarez and M. Simo, *Comprehensive Simulated Annealing*, 2008. [Online]. Available: chrome-extension://efaidnbmnnnibpcajpcglclefindmkaj/https://mat.uab.cat/~alseda/MasterOpt/ComprehensiveSimulatedAnnealing.pdf. [Accessed: 27-Sep-2024]."
      ]
    },
    {
      "cell_type": "markdown",
      "metadata": {
        "id": "kAkDPUyRtYyH"
      },
      "source": [
        "### **Describe brevemente las lineas de como crees que es posible avanzar en el estudio del problema. Ten en cuenta incluso posibles variaciones del problema y/o variaciones al alza del tamaño.**"
      ]
    },
    {
      "cell_type": "markdown",
      "metadata": {
        "id": "IE0uZmo-tZu-"
      },
      "source": [
        "- Diferente función de generación del vecino puede llevar a menor tiempo en alcanzar soluciones más óptimas.\n",
        "  - Reversión del array\n",
        "  - Eliminación de huecos vacíos o tomas\n",
        "\n",
        "- Con otras metaheurísticas se pueden alcanzar soluciones en menor tiempo\n",
        "  - Búsqueda tabú -> se puede combinar con Simulated Annealing\n",
        "\n",
        "- Finalmente s epueden jugar con los parámetros para llegar a soluciones más óptimas:\n",
        "  - Menor ratio de descenso de temperatura -> diversificar más al principìo"
      ]
    }
  ],
  "metadata": {
    "colab": {
      "provenance": []
    },
    "kernelspec": {
      "display_name": "Python 3",
      "name": "python3"
    },
    "language_info": {
      "codemirror_mode": {
        "name": "ipython",
        "version": 3
      },
      "file_extension": ".py",
      "mimetype": "text/x-python",
      "name": "python",
      "nbconvert_exporter": "python",
      "pygments_lexer": "ipython3",
      "version": "3.12.3"
    }
  },
  "nbformat": 4,
  "nbformat_minor": 0
}
